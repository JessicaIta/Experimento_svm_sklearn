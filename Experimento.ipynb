{
 "cells": [
  {
   "cell_type": "markdown",
   "metadata": {
    "colab_type": "text",
    "id": "2qkZCX0RH5kw"
   },
   "source": [
    "# Importando as Bibliotecas"
   ]
  },
  {
   "cell_type": "code",
   "execution_count": 1,
   "metadata": {
    "colab": {},
    "colab_type": "code",
    "id": "HhD2F7-lH_9-"
   },
   "outputs": [],
   "source": [
    "#Importando as bibliotecas\n",
    "import matplotlib.pyplot as plt\n",
    "import pandas as pd\n",
    "import numpy as np\n",
    "import io\n",
    "from sklearn.model_selection import train_test_split\n",
    "from sklearn.model_selection import cross_val_predict\n",
    "from sklearn.metrics import accuracy_score\n",
    "from sklearn import metrics\n",
    "from sklearn.svm import SVC"
   ]
  },
  {
   "cell_type": "markdown",
   "metadata": {
    "colab_type": "text",
    "id": "ZvSpYJwTIB5O"
   },
   "source": [
    "# Importando o dataset de Câncer de mama"
   ]
  },
  {
   "cell_type": "code",
   "execution_count": 2,
   "metadata": {
    "colab": {
     "base_uri": "https://localhost:8080/",
     "height": 73,
     "resources": {
      "http://localhost:8080/nbextensions/google.colab/files.js": {
       "data": "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",
       "headers": [
        [
         "content-type",
         "application/javascript"
        ]
       ],
       "ok": true,
       "status": 200,
       "status_text": ""
      }
     }
    },
    "colab_type": "code",
    "executionInfo": {
     "elapsed": 8043,
     "status": "ok",
     "timestamp": 1539917075536,
     "user": {
      "displayName": "Jéssica da Silva Costa",
      "photoUrl": "",
      "userId": "10968429452394762332"
     },
     "user_tz": 180
    },
    "id": "Rg2EMEGQMwqe",
    "outputId": "ad8d2727-528c-4fde-82e0-21409f22e513"
   },
   "outputs": [
    {
     "data": {
      "text/html": [
       "<div>\n",
       "<style scoped>\n",
       "    .dataframe tbody tr th:only-of-type {\n",
       "        vertical-align: middle;\n",
       "    }\n",
       "\n",
       "    .dataframe tbody tr th {\n",
       "        vertical-align: top;\n",
       "    }\n",
       "\n",
       "    .dataframe thead th {\n",
       "        text-align: right;\n",
       "    }\n",
       "</style>\n",
       "<table border=\"1\" class=\"dataframe\">\n",
       "  <thead>\n",
       "    <tr style=\"text-align: right;\">\n",
       "      <th></th>\n",
       "      <th>id</th>\n",
       "      <th>diagnosis</th>\n",
       "      <th>radius_mean</th>\n",
       "      <th>texture_mean</th>\n",
       "      <th>perimeter_mean</th>\n",
       "      <th>area_mean</th>\n",
       "      <th>smoothness_mean</th>\n",
       "      <th>compactness_mean</th>\n",
       "      <th>concavity_mean</th>\n",
       "      <th>concave points_mean</th>\n",
       "      <th>...</th>\n",
       "      <th>radius_worst</th>\n",
       "      <th>texture_worst</th>\n",
       "      <th>perimeter_worst</th>\n",
       "      <th>area_worst</th>\n",
       "      <th>smoothness_worst</th>\n",
       "      <th>compactness_worst</th>\n",
       "      <th>concavity_worst</th>\n",
       "      <th>concave points_worst</th>\n",
       "      <th>symmetry_worst</th>\n",
       "      <th>fractal_dimension_worst</th>\n",
       "    </tr>\n",
       "  </thead>\n",
       "  <tbody>\n",
       "    <tr>\n",
       "      <th>0</th>\n",
       "      <td>842302</td>\n",
       "      <td>0</td>\n",
       "      <td>1799.0</td>\n",
       "      <td>1038.0</td>\n",
       "      <td>122.8</td>\n",
       "      <td>1001.0</td>\n",
       "      <td>1184.0</td>\n",
       "      <td>2776</td>\n",
       "      <td>3001</td>\n",
       "      <td>1471</td>\n",
       "      <td>...</td>\n",
       "      <td>2538.0</td>\n",
       "      <td>1733.0</td>\n",
       "      <td>184.6</td>\n",
       "      <td>2019.0</td>\n",
       "      <td>1622</td>\n",
       "      <td>6656.0</td>\n",
       "      <td>7119.0</td>\n",
       "      <td>2654</td>\n",
       "      <td>4601.0</td>\n",
       "      <td>1189</td>\n",
       "    </tr>\n",
       "    <tr>\n",
       "      <th>1</th>\n",
       "      <td>842517</td>\n",
       "      <td>0</td>\n",
       "      <td>2057.0</td>\n",
       "      <td>1777.0</td>\n",
       "      <td>132.9</td>\n",
       "      <td>1326.0</td>\n",
       "      <td>8474.0</td>\n",
       "      <td>7864</td>\n",
       "      <td>869</td>\n",
       "      <td>7017</td>\n",
       "      <td>...</td>\n",
       "      <td>2499.0</td>\n",
       "      <td>2341.0</td>\n",
       "      <td>158.8</td>\n",
       "      <td>1956.0</td>\n",
       "      <td>1238</td>\n",
       "      <td>1866.0</td>\n",
       "      <td>2416.0</td>\n",
       "      <td>186</td>\n",
       "      <td>275.0</td>\n",
       "      <td>8902</td>\n",
       "    </tr>\n",
       "    <tr>\n",
       "      <th>2</th>\n",
       "      <td>84300903</td>\n",
       "      <td>0</td>\n",
       "      <td>1969.0</td>\n",
       "      <td>2125.0</td>\n",
       "      <td>130.0</td>\n",
       "      <td>1203.0</td>\n",
       "      <td>1096.0</td>\n",
       "      <td>1599</td>\n",
       "      <td>1974</td>\n",
       "      <td>1279</td>\n",
       "      <td>...</td>\n",
       "      <td>2357.0</td>\n",
       "      <td>2553.0</td>\n",
       "      <td>152.5</td>\n",
       "      <td>1709.0</td>\n",
       "      <td>1444</td>\n",
       "      <td>4245.0</td>\n",
       "      <td>4504.0</td>\n",
       "      <td>243</td>\n",
       "      <td>3613.0</td>\n",
       "      <td>8758</td>\n",
       "    </tr>\n",
       "    <tr>\n",
       "      <th>3</th>\n",
       "      <td>84348301</td>\n",
       "      <td>0</td>\n",
       "      <td>1142.0</td>\n",
       "      <td>2038.0</td>\n",
       "      <td>7758.0</td>\n",
       "      <td>386.1</td>\n",
       "      <td>1425.0</td>\n",
       "      <td>2839</td>\n",
       "      <td>2414</td>\n",
       "      <td>1052</td>\n",
       "      <td>...</td>\n",
       "      <td>1491.0</td>\n",
       "      <td>26.5</td>\n",
       "      <td>9887.0</td>\n",
       "      <td>567.7</td>\n",
       "      <td>2098</td>\n",
       "      <td>8663.0</td>\n",
       "      <td>6869.0</td>\n",
       "      <td>2575</td>\n",
       "      <td>6638.0</td>\n",
       "      <td>173</td>\n",
       "    </tr>\n",
       "    <tr>\n",
       "      <th>4</th>\n",
       "      <td>84358402</td>\n",
       "      <td>0</td>\n",
       "      <td>2029.0</td>\n",
       "      <td>1434.0</td>\n",
       "      <td>135.1</td>\n",
       "      <td>1297.0</td>\n",
       "      <td>1003.0</td>\n",
       "      <td>1328</td>\n",
       "      <td>198</td>\n",
       "      <td>1043</td>\n",
       "      <td>...</td>\n",
       "      <td>2254.0</td>\n",
       "      <td>1667.0</td>\n",
       "      <td>152.2</td>\n",
       "      <td>1575.0</td>\n",
       "      <td>1374</td>\n",
       "      <td>205.0</td>\n",
       "      <td>0.4</td>\n",
       "      <td>1625</td>\n",
       "      <td>2364.0</td>\n",
       "      <td>7678</td>\n",
       "    </tr>\n",
       "  </tbody>\n",
       "</table>\n",
       "<p>5 rows × 32 columns</p>\n",
       "</div>"
      ],
      "text/plain": [
       "         id  diagnosis  radius_mean  texture_mean  perimeter_mean  area_mean  \\\n",
       "0    842302          0       1799.0        1038.0           122.8     1001.0   \n",
       "1    842517          0       2057.0        1777.0           132.9     1326.0   \n",
       "2  84300903          0       1969.0        2125.0           130.0     1203.0   \n",
       "3  84348301          0       1142.0        2038.0          7758.0      386.1   \n",
       "4  84358402          0       2029.0        1434.0           135.1     1297.0   \n",
       "\n",
       "   smoothness_mean  compactness_mean  concavity_mean  concave points_mean  \\\n",
       "0           1184.0              2776            3001                 1471   \n",
       "1           8474.0              7864             869                 7017   \n",
       "2           1096.0              1599            1974                 1279   \n",
       "3           1425.0              2839            2414                 1052   \n",
       "4           1003.0              1328             198                 1043   \n",
       "\n",
       "   ...  radius_worst  texture_worst  perimeter_worst  area_worst  \\\n",
       "0  ...        2538.0         1733.0            184.6      2019.0   \n",
       "1  ...        2499.0         2341.0            158.8      1956.0   \n",
       "2  ...        2357.0         2553.0            152.5      1709.0   \n",
       "3  ...        1491.0           26.5           9887.0       567.7   \n",
       "4  ...        2254.0         1667.0            152.2      1575.0   \n",
       "\n",
       "   smoothness_worst  compactness_worst  concavity_worst  concave points_worst  \\\n",
       "0              1622             6656.0           7119.0                  2654   \n",
       "1              1238             1866.0           2416.0                   186   \n",
       "2              1444             4245.0           4504.0                   243   \n",
       "3              2098             8663.0           6869.0                  2575   \n",
       "4              1374              205.0              0.4                  1625   \n",
       "\n",
       "   symmetry_worst  fractal_dimension_worst  \n",
       "0          4601.0                     1189  \n",
       "1           275.0                     8902  \n",
       "2          3613.0                     8758  \n",
       "3          6638.0                      173  \n",
       "4          2364.0                     7678  \n",
       "\n",
       "[5 rows x 32 columns]"
      ]
     },
     "execution_count": 2,
     "metadata": {},
     "output_type": "execute_result"
    }
   ],
   "source": [
    "import pandas as pd\n",
    "dataCancer = pd.read_csv(\"breast-cancer.csv\")\n",
    "dataCancer.head()"
   ]
  },
  {
   "cell_type": "code",
   "execution_count": 3,
   "metadata": {
    "colab": {
     "base_uri": "https://localhost:8080/",
     "height": 1945
    },
    "colab_type": "code",
    "executionInfo": {
     "elapsed": 876,
     "status": "ok",
     "timestamp": 1539917081410,
     "user": {
      "displayName": "Jéssica da Silva Costa",
      "photoUrl": "",
      "userId": "10968429452394762332"
     },
     "user_tz": 180
    },
    "id": "u4l3sF81IO9o",
    "outputId": "e4e7673a-f191-4c59-a8ed-ae07a300ef37"
   },
   "outputs": [
    {
     "data": {
      "text/html": [
       "<div>\n",
       "<style scoped>\n",
       "    .dataframe tbody tr th:only-of-type {\n",
       "        vertical-align: middle;\n",
       "    }\n",
       "\n",
       "    .dataframe tbody tr th {\n",
       "        vertical-align: top;\n",
       "    }\n",
       "\n",
       "    .dataframe thead th {\n",
       "        text-align: right;\n",
       "    }\n",
       "</style>\n",
       "<table border=\"1\" class=\"dataframe\">\n",
       "  <thead>\n",
       "    <tr style=\"text-align: right;\">\n",
       "      <th></th>\n",
       "      <th>id</th>\n",
       "      <th>diagnosis</th>\n",
       "      <th>radius_mean</th>\n",
       "      <th>texture_mean</th>\n",
       "      <th>perimeter_mean</th>\n",
       "      <th>area_mean</th>\n",
       "      <th>smoothness_mean</th>\n",
       "      <th>compactness_mean</th>\n",
       "      <th>concavity_mean</th>\n",
       "      <th>concave points_mean</th>\n",
       "      <th>...</th>\n",
       "      <th>radius_worst</th>\n",
       "      <th>texture_worst</th>\n",
       "      <th>perimeter_worst</th>\n",
       "      <th>area_worst</th>\n",
       "      <th>smoothness_worst</th>\n",
       "      <th>compactness_worst</th>\n",
       "      <th>concavity_worst</th>\n",
       "      <th>concave points_worst</th>\n",
       "      <th>symmetry_worst</th>\n",
       "      <th>fractal_dimension_worst</th>\n",
       "    </tr>\n",
       "  </thead>\n",
       "  <tbody>\n",
       "    <tr>\n",
       "      <th>0</th>\n",
       "      <td>842302</td>\n",
       "      <td>0</td>\n",
       "      <td>1799.0</td>\n",
       "      <td>1038.0</td>\n",
       "      <td>122.8</td>\n",
       "      <td>1001.0</td>\n",
       "      <td>1184.0</td>\n",
       "      <td>2776</td>\n",
       "      <td>3001</td>\n",
       "      <td>1471</td>\n",
       "      <td>...</td>\n",
       "      <td>2538.0</td>\n",
       "      <td>1733.0</td>\n",
       "      <td>184.6</td>\n",
       "      <td>2019.0</td>\n",
       "      <td>1622</td>\n",
       "      <td>6656.0</td>\n",
       "      <td>7119.0</td>\n",
       "      <td>2654</td>\n",
       "      <td>4601.0</td>\n",
       "      <td>1189</td>\n",
       "    </tr>\n",
       "    <tr>\n",
       "      <th>1</th>\n",
       "      <td>842517</td>\n",
       "      <td>0</td>\n",
       "      <td>2057.0</td>\n",
       "      <td>1777.0</td>\n",
       "      <td>132.9</td>\n",
       "      <td>1326.0</td>\n",
       "      <td>8474.0</td>\n",
       "      <td>7864</td>\n",
       "      <td>869</td>\n",
       "      <td>7017</td>\n",
       "      <td>...</td>\n",
       "      <td>2499.0</td>\n",
       "      <td>2341.0</td>\n",
       "      <td>158.8</td>\n",
       "      <td>1956.0</td>\n",
       "      <td>1238</td>\n",
       "      <td>1866.0</td>\n",
       "      <td>2416.0</td>\n",
       "      <td>186</td>\n",
       "      <td>275.0</td>\n",
       "      <td>8902</td>\n",
       "    </tr>\n",
       "    <tr>\n",
       "      <th>2</th>\n",
       "      <td>84300903</td>\n",
       "      <td>0</td>\n",
       "      <td>1969.0</td>\n",
       "      <td>2125.0</td>\n",
       "      <td>130.0</td>\n",
       "      <td>1203.0</td>\n",
       "      <td>1096.0</td>\n",
       "      <td>1599</td>\n",
       "      <td>1974</td>\n",
       "      <td>1279</td>\n",
       "      <td>...</td>\n",
       "      <td>2357.0</td>\n",
       "      <td>2553.0</td>\n",
       "      <td>152.5</td>\n",
       "      <td>1709.0</td>\n",
       "      <td>1444</td>\n",
       "      <td>4245.0</td>\n",
       "      <td>4504.0</td>\n",
       "      <td>243</td>\n",
       "      <td>3613.0</td>\n",
       "      <td>8758</td>\n",
       "    </tr>\n",
       "    <tr>\n",
       "      <th>3</th>\n",
       "      <td>84348301</td>\n",
       "      <td>0</td>\n",
       "      <td>1142.0</td>\n",
       "      <td>2038.0</td>\n",
       "      <td>7758.0</td>\n",
       "      <td>386.1</td>\n",
       "      <td>1425.0</td>\n",
       "      <td>2839</td>\n",
       "      <td>2414</td>\n",
       "      <td>1052</td>\n",
       "      <td>...</td>\n",
       "      <td>1491.0</td>\n",
       "      <td>26.5</td>\n",
       "      <td>9887.0</td>\n",
       "      <td>567.7</td>\n",
       "      <td>2098</td>\n",
       "      <td>8663.0</td>\n",
       "      <td>6869.0</td>\n",
       "      <td>2575</td>\n",
       "      <td>6638.0</td>\n",
       "      <td>173</td>\n",
       "    </tr>\n",
       "    <tr>\n",
       "      <th>4</th>\n",
       "      <td>84358402</td>\n",
       "      <td>0</td>\n",
       "      <td>2029.0</td>\n",
       "      <td>1434.0</td>\n",
       "      <td>135.1</td>\n",
       "      <td>1297.0</td>\n",
       "      <td>1003.0</td>\n",
       "      <td>1328</td>\n",
       "      <td>198</td>\n",
       "      <td>1043</td>\n",
       "      <td>...</td>\n",
       "      <td>2254.0</td>\n",
       "      <td>1667.0</td>\n",
       "      <td>152.2</td>\n",
       "      <td>1575.0</td>\n",
       "      <td>1374</td>\n",
       "      <td>205.0</td>\n",
       "      <td>0.4</td>\n",
       "      <td>1625</td>\n",
       "      <td>2364.0</td>\n",
       "      <td>7678</td>\n",
       "    </tr>\n",
       "    <tr>\n",
       "      <th>...</th>\n",
       "      <td>...</td>\n",
       "      <td>...</td>\n",
       "      <td>...</td>\n",
       "      <td>...</td>\n",
       "      <td>...</td>\n",
       "      <td>...</td>\n",
       "      <td>...</td>\n",
       "      <td>...</td>\n",
       "      <td>...</td>\n",
       "      <td>...</td>\n",
       "      <td>...</td>\n",
       "      <td>...</td>\n",
       "      <td>...</td>\n",
       "      <td>...</td>\n",
       "      <td>...</td>\n",
       "      <td>...</td>\n",
       "      <td>...</td>\n",
       "      <td>...</td>\n",
       "      <td>...</td>\n",
       "      <td>...</td>\n",
       "      <td>...</td>\n",
       "    </tr>\n",
       "    <tr>\n",
       "      <th>564</th>\n",
       "      <td>926424</td>\n",
       "      <td>0</td>\n",
       "      <td>2156.0</td>\n",
       "      <td>2239.0</td>\n",
       "      <td>142.0</td>\n",
       "      <td>1479.0</td>\n",
       "      <td>111.0</td>\n",
       "      <td>1159</td>\n",
       "      <td>2439</td>\n",
       "      <td>1389</td>\n",
       "      <td>...</td>\n",
       "      <td>2545.0</td>\n",
       "      <td>26.4</td>\n",
       "      <td>166.1</td>\n",
       "      <td>2027.0</td>\n",
       "      <td>141</td>\n",
       "      <td>2113.0</td>\n",
       "      <td>4107.0</td>\n",
       "      <td>2216</td>\n",
       "      <td>206.0</td>\n",
       "      <td>7115</td>\n",
       "    </tr>\n",
       "    <tr>\n",
       "      <th>565</th>\n",
       "      <td>926682</td>\n",
       "      <td>0</td>\n",
       "      <td>2013.0</td>\n",
       "      <td>2825.0</td>\n",
       "      <td>131.2</td>\n",
       "      <td>1261.0</td>\n",
       "      <td>978.0</td>\n",
       "      <td>1034</td>\n",
       "      <td>144</td>\n",
       "      <td>9791</td>\n",
       "      <td>...</td>\n",
       "      <td>2369.0</td>\n",
       "      <td>3825.0</td>\n",
       "      <td>155.0</td>\n",
       "      <td>1731.0</td>\n",
       "      <td>1166</td>\n",
       "      <td>1922.0</td>\n",
       "      <td>3215.0</td>\n",
       "      <td>1628</td>\n",
       "      <td>2572.0</td>\n",
       "      <td>6637</td>\n",
       "    </tr>\n",
       "    <tr>\n",
       "      <th>566</th>\n",
       "      <td>926954</td>\n",
       "      <td>0</td>\n",
       "      <td>16.6</td>\n",
       "      <td>2808.0</td>\n",
       "      <td>108.3</td>\n",
       "      <td>858.1</td>\n",
       "      <td>8455.0</td>\n",
       "      <td>1023</td>\n",
       "      <td>9251</td>\n",
       "      <td>5302</td>\n",
       "      <td>...</td>\n",
       "      <td>1898.0</td>\n",
       "      <td>3412.0</td>\n",
       "      <td>126.7</td>\n",
       "      <td>1124.0</td>\n",
       "      <td>1139</td>\n",
       "      <td>3094.0</td>\n",
       "      <td>3403.0</td>\n",
       "      <td>1418</td>\n",
       "      <td>2218.0</td>\n",
       "      <td>782</td>\n",
       "    </tr>\n",
       "    <tr>\n",
       "      <th>567</th>\n",
       "      <td>927241</td>\n",
       "      <td>0</td>\n",
       "      <td>20.6</td>\n",
       "      <td>2933.0</td>\n",
       "      <td>140.1</td>\n",
       "      <td>1265.0</td>\n",
       "      <td>1178.0</td>\n",
       "      <td>277</td>\n",
       "      <td>3514</td>\n",
       "      <td>152</td>\n",
       "      <td>...</td>\n",
       "      <td>2574.0</td>\n",
       "      <td>3942.0</td>\n",
       "      <td>184.6</td>\n",
       "      <td>1821.0</td>\n",
       "      <td>165</td>\n",
       "      <td>8681.0</td>\n",
       "      <td>9387.0</td>\n",
       "      <td>265</td>\n",
       "      <td>4087.0</td>\n",
       "      <td>124</td>\n",
       "    </tr>\n",
       "    <tr>\n",
       "      <th>568</th>\n",
       "      <td>92751</td>\n",
       "      <td>1</td>\n",
       "      <td>776.0</td>\n",
       "      <td>2454.0</td>\n",
       "      <td>4792.0</td>\n",
       "      <td>181.0</td>\n",
       "      <td>5263.0</td>\n",
       "      <td>4362</td>\n",
       "      <td>0</td>\n",
       "      <td>0</td>\n",
       "      <td>...</td>\n",
       "      <td>9456.0</td>\n",
       "      <td>3037.0</td>\n",
       "      <td>5916.0</td>\n",
       "      <td>268.6</td>\n",
       "      <td>8996</td>\n",
       "      <td>6444.0</td>\n",
       "      <td>0.0</td>\n",
       "      <td>0</td>\n",
       "      <td>2871.0</td>\n",
       "      <td>7039</td>\n",
       "    </tr>\n",
       "  </tbody>\n",
       "</table>\n",
       "<p>569 rows × 32 columns</p>\n",
       "</div>"
      ],
      "text/plain": [
       "           id  diagnosis  radius_mean  texture_mean  perimeter_mean  \\\n",
       "0      842302          0       1799.0        1038.0           122.8   \n",
       "1      842517          0       2057.0        1777.0           132.9   \n",
       "2    84300903          0       1969.0        2125.0           130.0   \n",
       "3    84348301          0       1142.0        2038.0          7758.0   \n",
       "4    84358402          0       2029.0        1434.0           135.1   \n",
       "..        ...        ...          ...           ...             ...   \n",
       "564    926424          0       2156.0        2239.0           142.0   \n",
       "565    926682          0       2013.0        2825.0           131.2   \n",
       "566    926954          0         16.6        2808.0           108.3   \n",
       "567    927241          0         20.6        2933.0           140.1   \n",
       "568     92751          1        776.0        2454.0          4792.0   \n",
       "\n",
       "     area_mean  smoothness_mean  compactness_mean  concavity_mean  \\\n",
       "0       1001.0           1184.0              2776            3001   \n",
       "1       1326.0           8474.0              7864             869   \n",
       "2       1203.0           1096.0              1599            1974   \n",
       "3        386.1           1425.0              2839            2414   \n",
       "4       1297.0           1003.0              1328             198   \n",
       "..         ...              ...               ...             ...   \n",
       "564     1479.0            111.0              1159            2439   \n",
       "565     1261.0            978.0              1034             144   \n",
       "566      858.1           8455.0              1023            9251   \n",
       "567     1265.0           1178.0               277            3514   \n",
       "568      181.0           5263.0              4362               0   \n",
       "\n",
       "     concave points_mean  ...  radius_worst  texture_worst  perimeter_worst  \\\n",
       "0                   1471  ...        2538.0         1733.0            184.6   \n",
       "1                   7017  ...        2499.0         2341.0            158.8   \n",
       "2                   1279  ...        2357.0         2553.0            152.5   \n",
       "3                   1052  ...        1491.0           26.5           9887.0   \n",
       "4                   1043  ...        2254.0         1667.0            152.2   \n",
       "..                   ...  ...           ...            ...              ...   \n",
       "564                 1389  ...        2545.0           26.4            166.1   \n",
       "565                 9791  ...        2369.0         3825.0            155.0   \n",
       "566                 5302  ...        1898.0         3412.0            126.7   \n",
       "567                  152  ...        2574.0         3942.0            184.6   \n",
       "568                    0  ...        9456.0         3037.0           5916.0   \n",
       "\n",
       "     area_worst  smoothness_worst  compactness_worst  concavity_worst  \\\n",
       "0        2019.0              1622             6656.0           7119.0   \n",
       "1        1956.0              1238             1866.0           2416.0   \n",
       "2        1709.0              1444             4245.0           4504.0   \n",
       "3         567.7              2098             8663.0           6869.0   \n",
       "4        1575.0              1374              205.0              0.4   \n",
       "..          ...               ...                ...              ...   \n",
       "564      2027.0               141             2113.0           4107.0   \n",
       "565      1731.0              1166             1922.0           3215.0   \n",
       "566      1124.0              1139             3094.0           3403.0   \n",
       "567      1821.0               165             8681.0           9387.0   \n",
       "568       268.6              8996             6444.0              0.0   \n",
       "\n",
       "     concave points_worst  symmetry_worst  fractal_dimension_worst  \n",
       "0                    2654          4601.0                     1189  \n",
       "1                     186           275.0                     8902  \n",
       "2                     243          3613.0                     8758  \n",
       "3                    2575          6638.0                      173  \n",
       "4                    1625          2364.0                     7678  \n",
       "..                    ...             ...                      ...  \n",
       "564                  2216           206.0                     7115  \n",
       "565                  1628          2572.0                     6637  \n",
       "566                  1418          2218.0                      782  \n",
       "567                   265          4087.0                      124  \n",
       "568                     0          2871.0                     7039  \n",
       "\n",
       "[569 rows x 32 columns]"
      ]
     },
     "execution_count": 3,
     "metadata": {},
     "output_type": "execute_result"
    }
   ],
   "source": [
    "dataCancer"
   ]
  },
  {
   "cell_type": "markdown",
   "metadata": {
    "colab_type": "text",
    "id": "z8qoE8XmIfFX"
   },
   "source": [
    "# Encontrando informações do Dataset"
   ]
  },
  {
   "cell_type": "code",
   "execution_count": 4,
   "metadata": {
    "colab": {
     "base_uri": "https://localhost:8080/",
     "height": 690
    },
    "colab_type": "code",
    "executionInfo": {
     "elapsed": 729,
     "status": "ok",
     "timestamp": 1539917087713,
     "user": {
      "displayName": "Jéssica da Silva Costa",
      "photoUrl": "",
      "userId": "10968429452394762332"
     },
     "user_tz": 180
    },
    "id": "zvQyBDuVIkZ-",
    "outputId": "15986be8-4328-42e4-8ff6-5a59b979f74a"
   },
   "outputs": [
    {
     "name": "stdout",
     "output_type": "stream",
     "text": [
      "<class 'pandas.core.frame.DataFrame'>\n",
      "RangeIndex: 569 entries, 0 to 568\n",
      "Data columns (total 32 columns):\n",
      " #   Column                   Non-Null Count  Dtype  \n",
      "---  ------                   --------------  -----  \n",
      " 0   id                       569 non-null    int64  \n",
      " 1   diagnosis                569 non-null    int64  \n",
      " 2   radius_mean              569 non-null    float64\n",
      " 3   texture_mean             569 non-null    float64\n",
      " 4   perimeter_mean           569 non-null    float64\n",
      " 5   area_mean                569 non-null    float64\n",
      " 6   smoothness_mean          569 non-null    float64\n",
      " 7   compactness_mean         569 non-null    int64  \n",
      " 8   concavity_mean           569 non-null    int64  \n",
      " 9   concave points_mean      569 non-null    int64  \n",
      " 10  symmetry_mean            569 non-null    int64  \n",
      " 11  fractal_dimension_mean   569 non-null    int64  \n",
      " 12  radius_se                569 non-null    int64  \n",
      " 13  texture_se               569 non-null    float64\n",
      " 14  perimeter_se             569 non-null    float64\n",
      " 15  area_se                  569 non-null    float64\n",
      " 16  smoothness_se            569 non-null    int64  \n",
      " 17  compactness_se           569 non-null    int64  \n",
      " 18  concavity_se             569 non-null    int64  \n",
      " 19  concave points_se        569 non-null    int64  \n",
      " 20  symmetry_se              569 non-null    int64  \n",
      " 21  fractal_dimension_se     569 non-null    int64  \n",
      " 22  radius_worst             569 non-null    float64\n",
      " 23  texture_worst            569 non-null    float64\n",
      " 24  perimeter_worst          569 non-null    float64\n",
      " 25  area_worst               569 non-null    float64\n",
      " 26  smoothness_worst         569 non-null    int64  \n",
      " 27  compactness_worst        569 non-null    float64\n",
      " 28  concavity_worst          569 non-null    float64\n",
      " 29  concave points_worst     569 non-null    int64  \n",
      " 30  symmetry_worst           569 non-null    float64\n",
      " 31  fractal_dimension_worst  569 non-null    int64  \n",
      "dtypes: float64(15), int64(17)\n",
      "memory usage: 142.4 KB\n"
     ]
    }
   ],
   "source": [
    "dataCancer.info()"
   ]
  },
  {
   "cell_type": "code",
   "execution_count": 5,
   "metadata": {
    "colab": {
     "base_uri": "https://localhost:8080/",
     "height": 635
    },
    "colab_type": "code",
    "executionInfo": {
     "elapsed": 765,
     "status": "ok",
     "timestamp": 1539915885139,
     "user": {
      "displayName": "Jéssica da Silva Costa",
      "photoUrl": "",
      "userId": "10968429452394762332"
     },
     "user_tz": 180
    },
    "id": "tWdWItv9I52p",
    "outputId": "cd26f25e-1f2d-467c-f4a6-6560cbfabf54"
   },
   "outputs": [
    {
     "data": {
      "text/plain": [
       "id                         0\n",
       "diagnosis                  0\n",
       "radius_mean                0\n",
       "texture_mean               0\n",
       "perimeter_mean             0\n",
       "area_mean                  0\n",
       "smoothness_mean            0\n",
       "compactness_mean           0\n",
       "concavity_mean             0\n",
       "concave points_mean        0\n",
       "symmetry_mean              0\n",
       "fractal_dimension_mean     0\n",
       "radius_se                  0\n",
       "texture_se                 0\n",
       "perimeter_se               0\n",
       "area_se                    0\n",
       "smoothness_se              0\n",
       "compactness_se             0\n",
       "concavity_se               0\n",
       "concave points_se          0\n",
       "symmetry_se                0\n",
       "fractal_dimension_se       0\n",
       "radius_worst               0\n",
       "texture_worst              0\n",
       "perimeter_worst            0\n",
       "area_worst                 0\n",
       "smoothness_worst           0\n",
       "compactness_worst          0\n",
       "concavity_worst            0\n",
       "concave points_worst       0\n",
       "symmetry_worst             0\n",
       "fractal_dimension_worst    0\n",
       "dtype: int64"
      ]
     },
     "execution_count": 5,
     "metadata": {},
     "output_type": "execute_result"
    }
   ],
   "source": [
    "dataCancer.isnull().sum()"
   ]
  },
  {
   "cell_type": "code",
   "execution_count": 14,
   "metadata": {},
   "outputs": [
    {
     "data": {
      "text/plain": [
       "Index(['id', 'diagnosis', 'radius_mean', 'texture_mean', 'perimeter_mean',\n",
       "       'area_mean', 'smoothness_mean', 'compactness_mean', 'concavity_mean',\n",
       "       'concave points_mean', 'symmetry_mean', 'fractal_dimension_mean',\n",
       "       'radius_se', 'texture_se', 'perimeter_se', 'area_se', 'smoothness_se',\n",
       "       'compactness_se', 'concavity_se', 'concave points_se', 'symmetry_se',\n",
       "       'fractal_dimension_se', 'radius_worst', 'texture_worst',\n",
       "       'perimeter_worst', 'area_worst', 'smoothness_worst',\n",
       "       'compactness_worst', 'concavity_worst', 'concave points_worst',\n",
       "       'symmetry_worst', 'fractal_dimension_worst'],\n",
       "      dtype='object')"
      ]
     },
     "execution_count": 14,
     "metadata": {},
     "output_type": "execute_result"
    }
   ],
   "source": [
    "dataCancer.columns"
   ]
  },
  {
   "cell_type": "code",
   "execution_count": 7,
   "metadata": {
    "colab": {
     "base_uri": "https://localhost:8080/",
     "height": 355
    },
    "colab_type": "code",
    "executionInfo": {
     "elapsed": 752,
     "status": "ok",
     "timestamp": 1539915958367,
     "user": {
      "displayName": "Jéssica da Silva Costa",
      "photoUrl": "",
      "userId": "10968429452394762332"
     },
     "user_tz": 180
    },
    "id": "wcm9kAajJLlg",
    "outputId": "186217b4-3bf3-4fc0-f73c-21d7648bd657"
   },
   "outputs": [
    {
     "data": {
      "text/html": [
       "<div>\n",
       "<style scoped>\n",
       "    .dataframe tbody tr th:only-of-type {\n",
       "        vertical-align: middle;\n",
       "    }\n",
       "\n",
       "    .dataframe tbody tr th {\n",
       "        vertical-align: top;\n",
       "    }\n",
       "\n",
       "    .dataframe thead th {\n",
       "        text-align: right;\n",
       "    }\n",
       "</style>\n",
       "<table border=\"1\" class=\"dataframe\">\n",
       "  <thead>\n",
       "    <tr style=\"text-align: right;\">\n",
       "      <th></th>\n",
       "      <th>id</th>\n",
       "      <th>diagnosis</th>\n",
       "      <th>radius_mean</th>\n",
       "      <th>texture_mean</th>\n",
       "      <th>perimeter_mean</th>\n",
       "      <th>area_mean</th>\n",
       "      <th>smoothness_mean</th>\n",
       "      <th>compactness_mean</th>\n",
       "      <th>concavity_mean</th>\n",
       "      <th>concave points_mean</th>\n",
       "      <th>...</th>\n",
       "      <th>radius_worst</th>\n",
       "      <th>texture_worst</th>\n",
       "      <th>perimeter_worst</th>\n",
       "      <th>area_worst</th>\n",
       "      <th>smoothness_worst</th>\n",
       "      <th>compactness_worst</th>\n",
       "      <th>concavity_worst</th>\n",
       "      <th>concave points_worst</th>\n",
       "      <th>symmetry_worst</th>\n",
       "      <th>fractal_dimension_worst</th>\n",
       "    </tr>\n",
       "  </thead>\n",
       "  <tbody>\n",
       "    <tr>\n",
       "      <th>count</th>\n",
       "      <td>5.690000e+02</td>\n",
       "      <td>569.000000</td>\n",
       "      <td>569.000000</td>\n",
       "      <td>569.000000</td>\n",
       "      <td>569.00000</td>\n",
       "      <td>569.000000</td>\n",
       "      <td>569.000000</td>\n",
       "      <td>569.000000</td>\n",
       "      <td>569.000000</td>\n",
       "      <td>569.000000</td>\n",
       "      <td>...</td>\n",
       "      <td>569.000000</td>\n",
       "      <td>569.000000</td>\n",
       "      <td>569.000000</td>\n",
       "      <td>569.000000</td>\n",
       "      <td>569.000000</td>\n",
       "      <td>569.000000</td>\n",
       "      <td>569.000000</td>\n",
       "      <td>569.000000</td>\n",
       "      <td>569.000000</td>\n",
       "      <td>569.000000</td>\n",
       "    </tr>\n",
       "    <tr>\n",
       "      <th>mean</th>\n",
       "      <td>3.037183e+07</td>\n",
       "      <td>0.627417</td>\n",
       "      <td>1877.445518</td>\n",
       "      <td>1759.742707</td>\n",
       "      <td>5203.72355</td>\n",
       "      <td>654.889104</td>\n",
       "      <td>5377.935149</td>\n",
       "      <td>3980.750439</td>\n",
       "      <td>3182.627417</td>\n",
       "      <td>3688.309315</td>\n",
       "      <td>...</td>\n",
       "      <td>1743.423902</td>\n",
       "      <td>2309.869947</td>\n",
       "      <td>4044.647803</td>\n",
       "      <td>880.583128</td>\n",
       "      <td>1805.435852</td>\n",
       "      <td>3057.959754</td>\n",
       "      <td>3342.862214</td>\n",
       "      <td>3522.813708</td>\n",
       "      <td>2580.325659</td>\n",
       "      <td>6252.123023</td>\n",
       "    </tr>\n",
       "    <tr>\n",
       "      <th>std</th>\n",
       "      <td>1.250206e+08</td>\n",
       "      <td>0.483918</td>\n",
       "      <td>2167.649998</td>\n",
       "      <td>688.108749</td>\n",
       "      <td>3833.16871</td>\n",
       "      <td>351.914129</td>\n",
       "      <td>3913.076000</td>\n",
       "      <td>2988.912750</td>\n",
       "      <td>2539.018050</td>\n",
       "      <td>2807.699479</td>\n",
       "      <td>...</td>\n",
       "      <td>1543.230448</td>\n",
       "      <td>996.915470</td>\n",
       "      <td>4159.611511</td>\n",
       "      <td>569.356993</td>\n",
       "      <td>2096.251655</td>\n",
       "      <td>2246.823910</td>\n",
       "      <td>2387.607842</td>\n",
       "      <td>2925.740804</td>\n",
       "      <td>1042.838192</td>\n",
       "      <td>2974.589232</td>\n",
       "    </tr>\n",
       "    <tr>\n",
       "      <th>min</th>\n",
       "      <td>8.670000e+03</td>\n",
       "      <td>0.000000</td>\n",
       "      <td>9.000000</td>\n",
       "      <td>13.100000</td>\n",
       "      <td>59.20000</td>\n",
       "      <td>143.500000</td>\n",
       "      <td>0.100000</td>\n",
       "      <td>6.000000</td>\n",
       "      <td>0.000000</td>\n",
       "      <td>0.000000</td>\n",
       "      <td>...</td>\n",
       "      <td>10.600000</td>\n",
       "      <td>14.100000</td>\n",
       "      <td>59.900000</td>\n",
       "      <td>185.200000</td>\n",
       "      <td>13.000000</td>\n",
       "      <td>0.100000</td>\n",
       "      <td>0.000000</td>\n",
       "      <td>0.000000</td>\n",
       "      <td>0.300000</td>\n",
       "      <td>12.000000</td>\n",
       "    </tr>\n",
       "    <tr>\n",
       "      <th>25%</th>\n",
       "      <td>8.692180e+05</td>\n",
       "      <td>0.000000</td>\n",
       "      <td>1154.000000</td>\n",
       "      <td>1518.000000</td>\n",
       "      <td>129.50000</td>\n",
       "      <td>420.300000</td>\n",
       "      <td>1071.000000</td>\n",
       "      <td>1289.000000</td>\n",
       "      <td>1357.000000</td>\n",
       "      <td>1471.000000</td>\n",
       "      <td>...</td>\n",
       "      <td>1247.000000</td>\n",
       "      <td>1949.000000</td>\n",
       "      <td>121.400000</td>\n",
       "      <td>515.300000</td>\n",
       "      <td>1166.000000</td>\n",
       "      <td>1574.000000</td>\n",
       "      <td>1521.000000</td>\n",
       "      <td>1339.000000</td>\n",
       "      <td>2355.000000</td>\n",
       "      <td>6037.000000</td>\n",
       "    </tr>\n",
       "    <tr>\n",
       "      <th>50%</th>\n",
       "      <td>9.060240e+05</td>\n",
       "      <td>1.000000</td>\n",
       "      <td>1351.000000</td>\n",
       "      <td>1832.000000</td>\n",
       "      <td>7138.00000</td>\n",
       "      <td>551.100000</td>\n",
       "      <td>7721.000000</td>\n",
       "      <td>2839.000000</td>\n",
       "      <td>2367.000000</td>\n",
       "      <td>2799.000000</td>\n",
       "      <td>...</td>\n",
       "      <td>1485.000000</td>\n",
       "      <td>2462.000000</td>\n",
       "      <td>195.000000</td>\n",
       "      <td>686.500000</td>\n",
       "      <td>1327.000000</td>\n",
       "      <td>2376.000000</td>\n",
       "      <td>2884.000000</td>\n",
       "      <td>2089.000000</td>\n",
       "      <td>2741.000000</td>\n",
       "      <td>7313.000000</td>\n",
       "    </tr>\n",
       "    <tr>\n",
       "      <th>75%</th>\n",
       "      <td>8.813129e+06</td>\n",
       "      <td>1.000000</td>\n",
       "      <td>1727.000000</td>\n",
       "      <td>2154.000000</td>\n",
       "      <td>8305.00000</td>\n",
       "      <td>782.700000</td>\n",
       "      <td>8946.000000</td>\n",
       "      <td>6698.000000</td>\n",
       "      <td>4479.000000</td>\n",
       "      <td>5736.000000</td>\n",
       "      <td>...</td>\n",
       "      <td>1928.000000</td>\n",
       "      <td>2926.000000</td>\n",
       "      <td>8411.000000</td>\n",
       "      <td>1084.000000</td>\n",
       "      <td>1494.000000</td>\n",
       "      <td>4002.000000</td>\n",
       "      <td>4704.000000</td>\n",
       "      <td>6136.000000</td>\n",
       "      <td>3113.000000</td>\n",
       "      <td>8194.000000</td>\n",
       "    </tr>\n",
       "    <tr>\n",
       "      <th>max</th>\n",
       "      <td>9.113205e+08</td>\n",
       "      <td>1.000000</td>\n",
       "      <td>9904.000000</td>\n",
       "      <td>3928.000000</td>\n",
       "      <td>9958.00000</td>\n",
       "      <td>2501.000000</td>\n",
       "      <td>9997.000000</td>\n",
       "      <td>9965.000000</td>\n",
       "      <td>9966.000000</td>\n",
       "      <td>9961.000000</td>\n",
       "      <td>...</td>\n",
       "      <td>9981.000000</td>\n",
       "      <td>4954.000000</td>\n",
       "      <td>9971.000000</td>\n",
       "      <td>4254.000000</td>\n",
       "      <td>9994.000000</td>\n",
       "      <td>9995.000000</td>\n",
       "      <td>9996.000000</td>\n",
       "      <td>9993.000000</td>\n",
       "      <td>6638.000000</td>\n",
       "      <td>9981.000000</td>\n",
       "    </tr>\n",
       "  </tbody>\n",
       "</table>\n",
       "<p>8 rows × 32 columns</p>\n",
       "</div>"
      ],
      "text/plain": [
       "                 id   diagnosis  radius_mean  texture_mean  perimeter_mean  \\\n",
       "count  5.690000e+02  569.000000   569.000000    569.000000       569.00000   \n",
       "mean   3.037183e+07    0.627417  1877.445518   1759.742707      5203.72355   \n",
       "std    1.250206e+08    0.483918  2167.649998    688.108749      3833.16871   \n",
       "min    8.670000e+03    0.000000     9.000000     13.100000        59.20000   \n",
       "25%    8.692180e+05    0.000000  1154.000000   1518.000000       129.50000   \n",
       "50%    9.060240e+05    1.000000  1351.000000   1832.000000      7138.00000   \n",
       "75%    8.813129e+06    1.000000  1727.000000   2154.000000      8305.00000   \n",
       "max    9.113205e+08    1.000000  9904.000000   3928.000000      9958.00000   \n",
       "\n",
       "         area_mean  smoothness_mean  compactness_mean  concavity_mean  \\\n",
       "count   569.000000       569.000000        569.000000      569.000000   \n",
       "mean    654.889104      5377.935149       3980.750439     3182.627417   \n",
       "std     351.914129      3913.076000       2988.912750     2539.018050   \n",
       "min     143.500000         0.100000          6.000000        0.000000   \n",
       "25%     420.300000      1071.000000       1289.000000     1357.000000   \n",
       "50%     551.100000      7721.000000       2839.000000     2367.000000   \n",
       "75%     782.700000      8946.000000       6698.000000     4479.000000   \n",
       "max    2501.000000      9997.000000       9965.000000     9966.000000   \n",
       "\n",
       "       concave points_mean  ...  radius_worst  texture_worst  perimeter_worst  \\\n",
       "count           569.000000  ...    569.000000     569.000000       569.000000   \n",
       "mean           3688.309315  ...   1743.423902    2309.869947      4044.647803   \n",
       "std            2807.699479  ...   1543.230448     996.915470      4159.611511   \n",
       "min               0.000000  ...     10.600000      14.100000        59.900000   \n",
       "25%            1471.000000  ...   1247.000000    1949.000000       121.400000   \n",
       "50%            2799.000000  ...   1485.000000    2462.000000       195.000000   \n",
       "75%            5736.000000  ...   1928.000000    2926.000000      8411.000000   \n",
       "max            9961.000000  ...   9981.000000    4954.000000      9971.000000   \n",
       "\n",
       "        area_worst  smoothness_worst  compactness_worst  concavity_worst  \\\n",
       "count   569.000000        569.000000         569.000000       569.000000   \n",
       "mean    880.583128       1805.435852        3057.959754      3342.862214   \n",
       "std     569.356993       2096.251655        2246.823910      2387.607842   \n",
       "min     185.200000         13.000000           0.100000         0.000000   \n",
       "25%     515.300000       1166.000000        1574.000000      1521.000000   \n",
       "50%     686.500000       1327.000000        2376.000000      2884.000000   \n",
       "75%    1084.000000       1494.000000        4002.000000      4704.000000   \n",
       "max    4254.000000       9994.000000        9995.000000      9996.000000   \n",
       "\n",
       "       concave points_worst  symmetry_worst  fractal_dimension_worst  \n",
       "count            569.000000      569.000000               569.000000  \n",
       "mean            3522.813708     2580.325659              6252.123023  \n",
       "std             2925.740804     1042.838192              2974.589232  \n",
       "min                0.000000        0.300000                12.000000  \n",
       "25%             1339.000000     2355.000000              6037.000000  \n",
       "50%             2089.000000     2741.000000              7313.000000  \n",
       "75%             6136.000000     3113.000000              8194.000000  \n",
       "max             9993.000000     6638.000000              9981.000000  \n",
       "\n",
       "[8 rows x 32 columns]"
      ]
     },
     "execution_count": 7,
     "metadata": {},
     "output_type": "execute_result"
    }
   ],
   "source": [
    "dataCancer.describe()"
   ]
  },
  {
   "cell_type": "markdown",
   "metadata": {
    "colab_type": "text",
    "id": "kKzXX8DqLH36"
   },
   "source": [
    "# Plotando um Gráfico"
   ]
  },
  {
   "cell_type": "code",
   "execution_count": 8,
   "metadata": {
    "colab": {
     "base_uri": "https://localhost:8080/",
     "height": 276
    },
    "colab_type": "code",
    "executionInfo": {
     "elapsed": 942,
     "status": "ok",
     "timestamp": 1539918006804,
     "user": {
      "displayName": "Jéssica da Silva Costa",
      "photoUrl": "",
      "userId": "10968429452394762332"
     },
     "user_tz": 180
    },
    "id": "AkuyNqnuLLO5",
    "outputId": "2a4f916a-b6dd-40d2-fbe5-b8c0378ddfbc"
   },
   "outputs": [
    {
     "data": {
      "text/plain": [
       "<matplotlib.axes._subplots.AxesSubplot at 0x2a98f134bc8>"
      ]
     },
     "execution_count": 8,
     "metadata": {},
     "output_type": "execute_result"
    },
    {
     "data": {
      "image/png": "[encoded data removed]",
      "text/plain": [
       "<Figure size 432x288 with 2 Axes>"
      ]
     },
     "metadata": {},
     "output_type": "display_data"
    }
   ],
   "source": [
    "%matplotlib inline\n",
    "from matplotlib import style\n",
    "style.use(\"seaborn-darkgrid\")\n",
    "dataCancer.plot(x='area_mean', y='texture_mean', c='diagnosis', kind='scatter', colormap='Accent_r')"
   ]
  },
  {
   "cell_type": "code",
   "execution_count": 9,
   "metadata": {
    "colab": {
     "base_uri": "https://localhost:8080/",
     "height": 472
    },
    "colab_type": "code",
    "executionInfo": {
     "elapsed": 760,
     "status": "ok",
     "timestamp": 1539917407685,
     "user": {
      "displayName": "Jéssica da Silva Costa",
      "photoUrl": "",
      "userId": "10968429452394762332"
     },
     "user_tz": 180
    },
    "id": "Rvujjhi8OsZv",
    "outputId": "a9351e95-c3ca-4824-efe6-905450291056"
   },
   "outputs": [
    {
     "data": {
      "text/plain": [
       "['bmh',\n",
       " 'classic',\n",
       " 'dark_background',\n",
       " 'fast',\n",
       " 'fivethirtyeight',\n",
       " 'ggplot',\n",
       " 'grayscale',\n",
       " 'seaborn-bright',\n",
       " 'seaborn-colorblind',\n",
       " 'seaborn-dark-palette',\n",
       " 'seaborn-dark',\n",
       " 'seaborn-darkgrid',\n",
       " 'seaborn-deep',\n",
       " 'seaborn-muted',\n",
       " 'seaborn-notebook',\n",
       " 'seaborn-paper',\n",
       " 'seaborn-pastel',\n",
       " 'seaborn-poster',\n",
       " 'seaborn-talk',\n",
       " 'seaborn-ticks',\n",
       " 'seaborn-white',\n",
       " 'seaborn-whitegrid',\n",
       " 'seaborn',\n",
       " 'Solarize_Light2',\n",
       " 'tableau-colorblind10',\n",
       " '_classic_test']"
      ]
     },
     "execution_count": 9,
     "metadata": {},
     "output_type": "execute_result"
    }
   ],
   "source": [
    "plt.style.available"
   ]
  },
  {
   "cell_type": "markdown",
   "metadata": {
    "colab_type": "text",
    "id": "GyOWoPzWRL9I"
   },
   "source": [
    "# Separando amostras de treinamento e teste"
   ]
  },
  {
   "cell_type": "code",
   "execution_count": 15,
   "metadata": {},
   "outputs": [],
   "source": [
    "colunas_x = [ 'radius_mean', 'texture_mean', 'perimeter_mean',\n",
    "       'area_mean', 'smoothness_mean', 'compactness_mean', 'concavity_mean',\n",
    "       'concave points_mean', 'symmetry_mean', 'fractal_dimension_mean',\n",
    "       'radius_se', 'texture_se', 'perimeter_se', 'area_se', 'smoothness_se',\n",
    "       'compactness_se', 'concavity_se', 'concave points_se', 'symmetry_se',\n",
    "       'fractal_dimension_se', 'radius_worst', 'texture_worst',\n",
    "       'perimeter_worst', 'area_worst', 'smoothness_worst',\n",
    "       'compactness_worst', 'concavity_worst', 'concave points_worst',\n",
    "       'symmetry_worst', 'fractal_dimension_worst']"
   ]
  },
  {
   "cell_type": "code",
   "execution_count": 18,
   "metadata": {},
   "outputs": [],
   "source": [
    "## Normalizando os dados das features\n",
    "from sklearn.preprocessing import MinMaxScaler\n",
    "scaler_x = MinMaxScaler()\n",
    "dataCancer[colunas_x] = scaler_x.fit_transform(dataCancer[colunas_x])"
   ]
  },
  {
   "cell_type": "code",
   "execution_count": 21,
   "metadata": {
    "colab": {},
    "colab_type": "code",
    "id": "4qwO4iwgROq-"
   },
   "outputs": [],
   "source": [
    "## Normalizando os dados do previsor\n",
    "from sklearn.preprocessing import MinMaxScaler\n",
    "scaler_y = MinMaxScaler()\n",
    "dataCancer[['diagnosis']] = scaler_y.fit_transform(dataCancer[['diagnosis']])"
   ]
  },
  {
   "cell_type": "code",
   "execution_count": 22,
   "metadata": {},
   "outputs": [],
   "source": [
    "#Separando preditores e a classe\n",
    "X = dataCancer.values[:, 2:31]\n",
    "Y = dataCancer.values[:,1]"
   ]
  },
  {
   "cell_type": "code",
   "execution_count": 23,
   "metadata": {},
   "outputs": [
    {
     "data": {
      "text/plain": [
       "array([[1.80899444e-01, 2.61794682e-01, 6.42502121e-03, ...,\n",
       "        7.12184874e-01, 2.65585910e-01, 6.93116592e-01],\n",
       "       [2.06973219e-01, 4.50560678e-01, 7.44534691e-03, ...,\n",
       "        2.41696679e-01, 1.86130291e-02, 4.13848170e-02],\n",
       "       [1.98079838e-01, 5.39451838e-01, 7.15238211e-03, ...,\n",
       "        4.50580232e-01, 2.43170219e-02, 5.44269853e-01],\n",
       "       ...,\n",
       "       [7.68064679e-04, 7.13913510e-01, 4.96019720e-03, ...,\n",
       "        3.40436174e-01, 1.41899330e-01, 3.34106694e-01],\n",
       "       [1.17230925e-03, 7.45842806e-01, 8.17270780e-03, ...,\n",
       "        9.39075630e-01, 2.65185630e-02, 6.15680130e-01],\n",
       "       [7.75138959e-02, 6.23489744e-01, 4.78118560e-01, ...,\n",
       "        0.00000000e+00, 0.00000000e+00, 4.32484144e-01]])"
      ]
     },
     "execution_count": 23,
     "metadata": {},
     "output_type": "execute_result"
    }
   ],
   "source": [
    "X"
   ]
  },
  {
   "cell_type": "code",
   "execution_count": 24,
   "metadata": {},
   "outputs": [
    {
     "data": {
      "text/plain": [
       "array([0., 0., 0., 0., 0., 0., 0., 0., 0., 0., 0., 0., 0., 0., 0., 0., 0.,\n",
       "       0., 0., 1., 1., 1., 0., 0., 0., 0., 0., 0., 0., 0., 0., 0., 0., 0.,\n",
       "       0., 0., 0., 1., 0., 0., 0., 0., 0., 0., 0., 0., 1., 0., 1., 1., 1.,\n",
       "       1., 1., 0., 0., 1., 0., 0., 1., 1., 1., 1., 0., 1., 0., 0., 1., 1.,\n",
       "       1., 1., 0., 1., 0., 0., 1., 0., 1., 0., 0., 1., 1., 1., 0., 0., 1.,\n",
       "       0., 0., 0., 1., 1., 1., 0., 1., 1., 0., 0., 1., 1., 1., 0., 0., 1.,\n",
       "       1., 1., 1., 0., 1., 1., 0., 1., 1., 1., 1., 1., 1., 1., 1., 0., 0.,\n",
       "       0., 1., 0., 0., 1., 1., 1., 0., 0., 1., 0., 1., 0., 0., 1., 0., 0.,\n",
       "       1., 1., 0., 1., 1., 0., 1., 1., 1., 1., 0., 1., 1., 1., 1., 1., 1.,\n",
       "       1., 1., 1., 0., 1., 1., 1., 1., 0., 0., 1., 0., 1., 1., 0., 0., 1.,\n",
       "       1., 0., 0., 1., 1., 1., 1., 0., 1., 1., 0., 0., 0., 1., 0., 1., 0.,\n",
       "       1., 1., 1., 0., 1., 1., 0., 0., 1., 0., 0., 0., 0., 1., 0., 0., 0.,\n",
       "       1., 0., 1., 0., 1., 1., 0., 1., 0., 0., 0., 0., 1., 1., 0., 0., 1.,\n",
       "       1., 1., 0., 1., 1., 1., 1., 1., 0., 0., 1., 1., 0., 1., 1., 0., 0.,\n",
       "       1., 0., 1., 1., 1., 1., 0., 1., 1., 1., 1., 1., 0., 1., 0., 0., 0.,\n",
       "       0., 0., 0., 0., 0., 0., 0., 0., 0., 0., 0., 1., 1., 1., 1., 1., 1.,\n",
       "       0., 1., 0., 1., 1., 0., 1., 1., 0., 1., 0., 0., 1., 1., 1., 1., 1.,\n",
       "       1., 1., 1., 1., 1., 1., 1., 1., 0., 1., 1., 0., 1., 0., 1., 1., 1.,\n",
       "       1., 1., 1., 1., 1., 1., 1., 1., 1., 1., 1., 0., 1., 1., 1., 0., 1.,\n",
       "       0., 1., 1., 1., 1., 0., 0., 0., 1., 1., 1., 1., 0., 1., 0., 1., 0.,\n",
       "       1., 1., 1., 0., 1., 1., 1., 1., 1., 1., 1., 0., 0., 0., 1., 1., 1.,\n",
       "       1., 1., 1., 1., 1., 1., 1., 1., 0., 0., 1., 0., 0., 0., 1., 0., 0.,\n",
       "       1., 1., 1., 1., 1., 0., 1., 1., 1., 1., 1., 0., 1., 1., 1., 0., 1.,\n",
       "       1., 0., 0., 1., 1., 1., 1., 1., 1., 0., 1., 1., 1., 1., 1., 1., 1.,\n",
       "       0., 1., 1., 1., 1., 1., 0., 1., 1., 0., 1., 1., 1., 1., 1., 1., 1.,\n",
       "       1., 1., 1., 1., 1., 0., 1., 0., 0., 1., 0., 1., 1., 1., 1., 1., 0.,\n",
       "       1., 1., 0., 1., 0., 1., 1., 0., 1., 0., 1., 1., 1., 1., 1., 1., 1.,\n",
       "       1., 0., 0., 1., 1., 1., 1., 1., 1., 0., 1., 1., 1., 1., 1., 1., 1.,\n",
       "       1., 1., 1., 0., 1., 1., 1., 1., 1., 1., 1., 0., 1., 0., 1., 1., 0.,\n",
       "       1., 1., 1., 1., 1., 0., 0., 1., 0., 1., 0., 1., 1., 1., 1., 1., 0.,\n",
       "       1., 1., 0., 1., 0., 1., 0., 0., 1., 1., 1., 0., 1., 1., 1., 1., 1.,\n",
       "       1., 1., 1., 1., 1., 1., 0., 1., 0., 0., 1., 1., 1., 1., 1., 1., 1.,\n",
       "       1., 1., 1., 1., 1., 1., 1., 1., 1., 1., 1., 1., 1., 1., 1., 1., 1.,\n",
       "       1., 0., 0., 0., 0., 0., 0., 1.])"
      ]
     },
     "execution_count": 24,
     "metadata": {},
     "output_type": "execute_result"
    }
   ],
   "source": [
    "Y"
   ]
  },
  {
   "cell_type": "code",
   "execution_count": 25,
   "metadata": {},
   "outputs": [],
   "source": [
    "X_train, X_test, y_train, y_test = train_test_split( X, Y, test_size = 0.3)"
   ]
  },
  {
   "cell_type": "markdown",
   "metadata": {
    "colab_type": "text",
    "id": "2hAZaoLoRYRB"
   },
   "source": [
    "# Aplicando o Algoritmo SVM com gamma 'auto'"
   ]
  },
  {
   "cell_type": "code",
   "execution_count": 26,
   "metadata": {
    "colab": {},
    "colab_type": "code",
    "id": "ALvH7gQ_RnWq"
   },
   "outputs": [
    {
     "data": {
      "text/plain": [
       "SVC(C=1.0, break_ties=False, cache_size=200, class_weight=None, coef0=0.0,\n",
       "    decision_function_shape='ovr', degree=3, gamma='auto', kernel='rbf',\n",
       "    max_iter=-1, probability=False, random_state=None, shrinking=True,\n",
       "    tol=0.001, verbose=False)"
      ]
     },
     "execution_count": 26,
     "metadata": {},
     "output_type": "execute_result"
    }
   ],
   "source": [
    "clf_rbf = SVC(gamma='auto', kernel='rbf')\n",
    "clf_rbf.fit(X_train, y_train)"
   ]
  },
  {
   "cell_type": "code",
   "execution_count": 27,
   "metadata": {
    "scrolled": true
   },
   "outputs": [
    {
     "data": {
      "text/plain": [
       "SVC(C=1.0, break_ties=False, cache_size=200, class_weight=None, coef0=0.0,\n",
       "    decision_function_shape='ovr', degree=3, gamma='auto', kernel='linear',\n",
       "    max_iter=-1, probability=False, random_state=None, shrinking=True,\n",
       "    tol=0.001, verbose=False)"
      ]
     },
     "execution_count": 27,
     "metadata": {},
     "output_type": "execute_result"
    }
   ],
   "source": [
    "clf_linear = SVC(gamma='auto', kernel='linear')\n",
    "clf_linear.fit(X_train, y_train)"
   ]
  },
  {
   "cell_type": "code",
   "execution_count": 28,
   "metadata": {},
   "outputs": [
    {
     "data": {
      "text/plain": [
       "SVC(C=1.0, break_ties=False, cache_size=200, class_weight=None, coef0=0.0,\n",
       "    decision_function_shape='ovr', degree=3, gamma='auto', kernel='poly',\n",
       "    max_iter=-1, probability=False, random_state=None, shrinking=True,\n",
       "    tol=0.001, verbose=False)"
      ]
     },
     "execution_count": 28,
     "metadata": {},
     "output_type": "execute_result"
    }
   ],
   "source": [
    "clf_polynomial = SVC(gamma='auto', kernel='poly')\n",
    "clf_polynomial.fit(X_train, y_train)"
   ]
  },
  {
   "cell_type": "markdown",
   "metadata": {},
   "source": [
    "# Aplicando o Algoritmo SVM com gamma '0.1'"
   ]
  },
  {
   "cell_type": "code",
   "execution_count": 29,
   "metadata": {},
   "outputs": [
    {
     "data": {
      "text/plain": [
       "SVC(C=1.0, break_ties=False, cache_size=200, class_weight=None, coef0=0.0,\n",
       "    decision_function_shape='ovr', degree=3, gamma=0.1, kernel='rbf',\n",
       "    max_iter=-1, probability=False, random_state=None, shrinking=True,\n",
       "    tol=0.001, verbose=False)"
      ]
     },
     "execution_count": 29,
     "metadata": {},
     "output_type": "execute_result"
    }
   ],
   "source": [
    "clf_rbf_gamma = SVC(gamma=0.1, kernel='rbf')\n",
    "clf_rbf_gamma.fit(X_train, y_train)"
   ]
  },
  {
   "cell_type": "code",
   "execution_count": 30,
   "metadata": {},
   "outputs": [
    {
     "data": {
      "text/plain": [
       "SVC(C=1.0, break_ties=False, cache_size=200, class_weight=None, coef0=0.0,\n",
       "    decision_function_shape='ovr', degree=3, gamma=0.1, kernel='linear',\n",
       "    max_iter=-1, probability=False, random_state=None, shrinking=True,\n",
       "    tol=0.001, verbose=False)"
      ]
     },
     "execution_count": 30,
     "metadata": {},
     "output_type": "execute_result"
    }
   ],
   "source": [
    "clf_linear_gamma = SVC(gamma=0.1, kernel='linear')\n",
    "clf_linear_gamma.fit(X_train, y_train)"
   ]
  },
  {
   "cell_type": "code",
   "execution_count": 31,
   "metadata": {},
   "outputs": [
    {
     "data": {
      "text/plain": [
       "SVC(C=1.0, break_ties=False, cache_size=200, class_weight=None, coef0=0.0,\n",
       "    decision_function_shape='ovr', degree=3, gamma=0.1, kernel='poly',\n",
       "    max_iter=-1, probability=False, random_state=None, shrinking=True,\n",
       "    tol=0.001, verbose=False)"
      ]
     },
     "execution_count": 31,
     "metadata": {},
     "output_type": "execute_result"
    }
   ],
   "source": [
    "clf_polynomial_gamma = SVC(gamma=0.1, kernel='poly')\n",
    "clf_polynomial_gamma.fit(X_train, y_train)"
   ]
  },
  {
   "cell_type": "markdown",
   "metadata": {
    "colab_type": "text",
    "id": "t2euZbtVRx_w"
   },
   "source": [
    "# Predizendo com as amostras de teste"
   ]
  },
  {
   "cell_type": "code",
   "execution_count": 32,
   "metadata": {
    "colab": {
     "base_uri": "https://localhost:8080/",
     "height": 35
    },
    "colab_type": "code",
    "executionInfo": {
     "elapsed": 775,
     "status": "ok",
     "timestamp": 1539918247180,
     "user": {
      "displayName": "Jéssica da Silva Costa",
      "photoUrl": "",
      "userId": "10968429452394762332"
     },
     "user_tz": 180
    },
    "id": "io1fLCXgR5XJ",
    "outputId": "127e0696-3797-4bd4-dc06-79a62f18fa72"
   },
   "outputs": [
    {
     "data": {
      "text/plain": [
       "array([1., 0., 1., 1., 1., 1., 0., 1., 1., 0., 0., 0., 1., 0., 0., 1., 1.,\n",
       "       1., 0., 1., 1., 1., 1., 0., 0., 1., 1., 1., 0., 0., 0., 0., 1., 1.,\n",
       "       1., 1., 1., 1., 1., 0., 1., 0., 1., 1., 1., 1., 1., 1., 1., 1., 1.,\n",
       "       1., 1., 1., 0., 0., 1., 0., 1., 0., 1., 1., 1., 1., 1., 1., 0., 0.,\n",
       "       1., 1., 0., 0., 1., 0., 0., 0., 1., 1., 1., 1., 0., 1., 0., 0., 1.,\n",
       "       0., 1., 0., 1., 1., 0., 1., 0., 1., 1., 1., 1., 1., 0., 0., 1., 0.,\n",
       "       1., 0., 1., 0., 1., 1., 1., 1., 0., 0., 1., 0., 1., 1., 1., 1., 1.,\n",
       "       1., 1., 0., 1., 1., 1., 1., 1., 1., 1., 1., 1., 1., 1., 1., 1., 0.,\n",
       "       1., 1., 1., 1., 0., 1., 1., 1., 1., 1., 0., 1., 0., 0., 1., 1., 1.,\n",
       "       0., 0., 0., 1., 1., 1., 0., 1., 0., 1., 1., 1., 0., 0., 0., 1., 1.,\n",
       "       1.])"
      ]
     },
     "execution_count": 32,
     "metadata": {},
     "output_type": "execute_result"
    }
   ],
   "source": [
    "# Kernel rbf\n",
    "y_pred_rbf = clf_rbf.predict(X_test)\n",
    "y_pred_rbf"
   ]
  },
  {
   "cell_type": "code",
   "execution_count": 33,
   "metadata": {
    "colab": {
     "base_uri": "https://localhost:8080/",
     "height": 35
    },
    "colab_type": "code",
    "executionInfo": {
     "elapsed": 748,
     "status": "ok",
     "timestamp": 1539918258225,
     "user": {
      "displayName": "Jéssica da Silva Costa",
      "photoUrl": "",
      "userId": "10968429452394762332"
     },
     "user_tz": 180
    },
    "id": "hI9EC_vGR9Qd",
    "outputId": "359d932c-6ad6-4aa7-93e2-13f44f4e8d1f"
   },
   "outputs": [
    {
     "data": {
      "text/plain": [
       "array([1., 1., 1., 1., 1., 1., 1., 1., 1., 1., 1., 1., 1., 1., 1., 1., 1.,\n",
       "       1., 1., 1., 1., 1., 1., 1., 1., 1., 1., 1., 1., 1., 1., 1., 1., 1.,\n",
       "       1., 1., 1., 1., 1., 1., 1., 1., 1., 1., 1., 1., 1., 1., 1., 1., 1.,\n",
       "       1., 1., 1., 1., 1., 1., 1., 1., 1., 1., 1., 1., 1., 1., 1., 1., 1.,\n",
       "       1., 1., 1., 1., 1., 1., 1., 1., 1., 1., 1., 1., 1., 1., 1., 1., 1.,\n",
       "       1., 1., 1., 1., 1., 1., 1., 1., 1., 1., 1., 1., 1., 1., 1., 1., 1.,\n",
       "       1., 1., 1., 1., 1., 1., 1., 1., 1., 1., 1., 1., 1., 1., 1., 1., 1.,\n",
       "       1., 1., 1., 1., 1., 1., 1., 1., 1., 1., 1., 1., 1., 1., 1., 1., 1.,\n",
       "       1., 1., 1., 1., 1., 1., 1., 1., 1., 1., 1., 1., 1., 1., 1., 1., 1.,\n",
       "       1., 1., 1., 1., 1., 1., 1., 1., 1., 1., 1., 1., 1., 1., 1., 1., 1.,\n",
       "       1.])"
      ]
     },
     "execution_count": 33,
     "metadata": {},
     "output_type": "execute_result"
    }
   ],
   "source": [
    "# Kernel Polynomial\n",
    "y_pred_poly = clf_polynomial.predict(X_test)\n",
    "y_pred_poly"
   ]
  },
  {
   "cell_type": "code",
   "execution_count": 34,
   "metadata": {
    "colab": {
     "base_uri": "https://localhost:8080/",
     "height": 35
    },
    "colab_type": "code",
    "executionInfo": {
     "elapsed": 775,
     "status": "ok",
     "timestamp": 1539918270741,
     "user": {
      "displayName": "Jéssica da Silva Costa",
      "photoUrl": "",
      "userId": "10968429452394762332"
     },
     "user_tz": 180
    },
    "id": "GIiOI4cZSAX_",
    "outputId": "3db756fe-8f10-4268-ed90-e34c6943e13b"
   },
   "outputs": [
    {
     "data": {
      "text/plain": [
       "array([1., 0., 1., 1., 1., 1., 0., 1., 1., 0., 0., 0., 1., 0., 0., 1., 1.,\n",
       "       1., 0., 1., 0., 1., 1., 0., 0., 0., 1., 1., 0., 0., 0., 0., 1., 1.,\n",
       "       1., 1., 1., 0., 1., 0., 1., 0., 1., 1., 1., 1., 1., 1., 1., 0., 1.,\n",
       "       1., 1., 1., 0., 0., 1., 0., 1., 0., 1., 1., 1., 1., 1., 1., 0., 0.,\n",
       "       1., 1., 0., 0., 1., 0., 0., 0., 1., 1., 1., 1., 0., 1., 0., 0., 1.,\n",
       "       0., 1., 0., 1., 1., 0., 1., 0., 0., 1., 1., 1., 1., 0., 0., 1., 0.,\n",
       "       1., 0., 1., 0., 1., 1., 1., 1., 0., 0., 1., 0., 1., 1., 1., 1., 1.,\n",
       "       1., 1., 0., 1., 1., 1., 1., 1., 1., 1., 1., 1., 1., 1., 1., 1., 0.,\n",
       "       1., 1., 1., 1., 0., 1., 1., 1., 1., 1., 0., 1., 0., 0., 1., 1., 1.,\n",
       "       0., 0., 0., 1., 1., 1., 0., 1., 0., 1., 1., 1., 0., 0., 0., 1., 1.,\n",
       "       1.])"
      ]
     },
     "execution_count": 34,
     "metadata": {},
     "output_type": "execute_result"
    }
   ],
   "source": [
    "# Kernel Linear\n",
    "y_pred_linear = clf_linear.predict(X_test)\n",
    "y_pred_linear"
   ]
  },
  {
   "cell_type": "code",
   "execution_count": 35,
   "metadata": {},
   "outputs": [
    {
     "data": {
      "text/plain": [
       "array([1., 0., 1., 1., 1., 1., 0., 1., 1., 0., 0., 0., 1., 0., 0., 1., 1.,\n",
       "       1., 0., 1., 1., 1., 1., 0., 0., 0., 1., 1., 0., 0., 0., 0., 1., 1.,\n",
       "       1., 1., 1., 1., 1., 0., 1., 0., 1., 1., 1., 1., 1., 1., 1., 0., 1.,\n",
       "       1., 1., 1., 0., 0., 1., 0., 1., 0., 1., 1., 1., 1., 1., 1., 0., 0.,\n",
       "       1., 1., 0., 0., 1., 0., 0., 0., 1., 1., 1., 1., 0., 1., 0., 0., 1.,\n",
       "       0., 1., 0., 1., 1., 0., 1., 0., 1., 1., 1., 1., 1., 0., 0., 1., 0.,\n",
       "       1., 0., 1., 0., 1., 1., 1., 1., 0., 0., 1., 0., 1., 1., 1., 1., 1.,\n",
       "       1., 1., 0., 1., 1., 1., 1., 1., 1., 1., 1., 1., 1., 1., 1., 1., 0.,\n",
       "       1., 1., 1., 1., 0., 1., 1., 1., 1., 1., 0., 1., 0., 0., 1., 1., 1.,\n",
       "       0., 0., 0., 1., 1., 1., 0., 1., 0., 1., 1., 1., 0., 0., 0., 1., 1.,\n",
       "       1.])"
      ]
     },
     "execution_count": 35,
     "metadata": {},
     "output_type": "execute_result"
    }
   ],
   "source": [
    "# Kernel rbf com gamma 0.1\n",
    "y_pred_rbf_gamma = clf_rbf_gamma.predict(X_test)\n",
    "y_pred_rbf_gamma"
   ]
  },
  {
   "cell_type": "code",
   "execution_count": 36,
   "metadata": {},
   "outputs": [
    {
     "data": {
      "text/plain": [
       "array([1., 0., 1., 1., 1., 1., 0., 1., 1., 0., 0., 0., 1., 0., 0., 1., 1.,\n",
       "       1., 0., 1., 1., 1., 1., 0., 0., 1., 1., 1., 0., 0., 0., 0., 1., 1.,\n",
       "       1., 1., 1., 1., 1., 0., 1., 0., 1., 1., 1., 1., 1., 1., 1., 0., 1.,\n",
       "       1., 1., 1., 0., 0., 1., 0., 1., 0., 1., 1., 1., 1., 1., 1., 0., 0.,\n",
       "       1., 1., 0., 0., 1., 0., 0., 0., 1., 1., 1., 1., 0., 1., 0., 0., 1.,\n",
       "       0., 1., 0., 1., 1., 0., 1., 0., 1., 1., 1., 1., 1., 0., 0., 1., 0.,\n",
       "       1., 0., 1., 0., 1., 1., 1., 1., 0., 0., 1., 0., 1., 1., 1., 1., 1.,\n",
       "       1., 1., 0., 1., 1., 1., 1., 1., 1., 1., 1., 1., 1., 1., 1., 1., 0.,\n",
       "       1., 1., 1., 1., 0., 1., 1., 1., 1., 1., 0., 1., 0., 0., 1., 1., 1.,\n",
       "       0., 0., 0., 1., 1., 1., 0., 1., 0., 1., 1., 1., 0., 0., 0., 1., 1.,\n",
       "       1.])"
      ]
     },
     "execution_count": 36,
     "metadata": {},
     "output_type": "execute_result"
    }
   ],
   "source": [
    "# Kernel Polynomial com gamma 0.1\n",
    "y_pred_poly_gamma = clf_polynomial_gamma.predict(X_test)\n",
    "y_pred_poly_gamma"
   ]
  },
  {
   "cell_type": "code",
   "execution_count": 37,
   "metadata": {},
   "outputs": [
    {
     "data": {
      "text/plain": [
       "array([1., 0., 1., 1., 1., 1., 0., 1., 1., 0., 0., 0., 1., 0., 0., 1., 1.,\n",
       "       1., 0., 1., 0., 1., 1., 0., 0., 0., 1., 1., 0., 0., 0., 0., 1., 1.,\n",
       "       1., 1., 1., 0., 1., 0., 1., 0., 1., 1., 1., 1., 1., 1., 1., 0., 1.,\n",
       "       1., 1., 1., 0., 0., 1., 0., 1., 0., 1., 1., 1., 1., 1., 1., 0., 0.,\n",
       "       1., 1., 0., 0., 1., 0., 0., 0., 1., 1., 1., 1., 0., 1., 0., 0., 1.,\n",
       "       0., 1., 0., 1., 1., 0., 1., 0., 0., 1., 1., 1., 1., 0., 0., 1., 0.,\n",
       "       1., 0., 1., 0., 1., 1., 1., 1., 0., 0., 1., 0., 1., 1., 1., 1., 1.,\n",
       "       1., 1., 0., 1., 1., 1., 1., 1., 1., 1., 1., 1., 1., 1., 1., 1., 0.,\n",
       "       1., 1., 1., 1., 0., 1., 1., 1., 1., 1., 0., 1., 0., 0., 1., 1., 1.,\n",
       "       0., 0., 0., 1., 1., 1., 0., 1., 0., 1., 1., 1., 0., 0., 0., 1., 1.,\n",
       "       1.])"
      ]
     },
     "execution_count": 37,
     "metadata": {},
     "output_type": "execute_result"
    }
   ],
   "source": [
    "# Kernel Linear\n",
    "y_pred_linear_gamma = clf_linear_gamma.predict(X_test)\n",
    "y_pred_linear_gamma"
   ]
  },
  {
   "cell_type": "markdown",
   "metadata": {},
   "source": [
    "# Calculando Acurácia"
   ]
  },
  {
   "cell_type": "code",
   "execution_count": 38,
   "metadata": {},
   "outputs": [
    {
     "name": "stdout",
     "output_type": "stream",
     "text": [
      "Acurácia foi  91.81286549707602\n"
     ]
    }
   ],
   "source": [
    "#Acurácia com o kernel rbf\n",
    "print (\"Acurácia foi \", accuracy_score(y_test,y_pred_rbf)*100)"
   ]
  },
  {
   "cell_type": "code",
   "execution_count": 44,
   "metadata": {},
   "outputs": [
    {
     "name": "stdout",
     "output_type": "stream",
     "text": [
      "Acurácia foi  60.23391812865497\n"
     ]
    }
   ],
   "source": [
    "#Acurácia com o kernel polynomial\n",
    "print (\"Acurácia foi \", accuracy_score(y_test,y_pred_poly)*100)"
   ]
  },
  {
   "cell_type": "code",
   "execution_count": 45,
   "metadata": {},
   "outputs": [
    {
     "name": "stdout",
     "output_type": "stream",
     "text": [
      "Acurácia foi  93.56725146198829\n"
     ]
    }
   ],
   "source": [
    "#Acurácia com o kernel linear\n",
    "print (\"Acurácia foi \", accuracy_score(y_test,y_pred_linear)*100)"
   ]
  },
  {
   "cell_type": "code",
   "execution_count": 46,
   "metadata": {},
   "outputs": [
    {
     "name": "stdout",
     "output_type": "stream",
     "text": [
      "Acurácia foi  92.98245614035088\n"
     ]
    }
   ],
   "source": [
    "#Acurácia com o kernel rbf com gamma 0.1\n",
    "print (\"Acurácia foi \", accuracy_score(y_test,y_pred_rbf_gamma)*100)"
   ]
  },
  {
   "cell_type": "code",
   "execution_count": 47,
   "metadata": {},
   "outputs": [
    {
     "name": "stdout",
     "output_type": "stream",
     "text": [
      "Acurácia foi  92.39766081871345\n"
     ]
    }
   ],
   "source": [
    "#Acurácia com o kernel polynomial com gamma 0.1\n",
    "print (\"Acurácia foi \", accuracy_score(y_test,y_pred_poly_gamma)*100)"
   ]
  },
  {
   "cell_type": "code",
   "execution_count": 48,
   "metadata": {},
   "outputs": [
    {
     "name": "stdout",
     "output_type": "stream",
     "text": [
      "Acurácia foi  93.56725146198829\n"
     ]
    }
   ],
   "source": [
    "#Acurácia com o kernel linear com gamma 0.1\n",
    "print (\"Acurácia foi \", accuracy_score(y_test,y_pred_linear_gamma)*100)"
   ]
  }
 ],
 "metadata": {
  "colab": {
   "name": "Experimento.ipynb",
   "provenance": [],
   "version": "0.3.2"
  },
  "kernelspec": {
   "display_name": "Python 3",
   "language": "python",
   "name": "python3"
  },
  "language_info": {
   "codemirror_mode": {
    "name": "ipython",
    "version": 3
   },
   "file_extension": ".py",
   "mimetype": "text/x-python",
   "name": "python",
   "nbconvert_exporter": "python",
   "pygments_lexer": "ipython3",
   "version": "3.7.6"
  }
 },
 "nbformat": 4,
 "nbformat_minor": 1
}
